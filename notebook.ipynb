{
 "cells": [
  {
   "cell_type": "code",
   "execution_count": null,
   "metadata": {},
   "outputs": [],
   "source": [
    "import requests\n",
    "import json\n",
    "import datetime\n",
    "import math\n",
    "\n",
    "import plotly.express as px\n",
    "import pandas as pd\n",
    "import numpy as np"
   ]
  },
  {
   "cell_type": "code",
   "execution_count": null,
   "metadata": {},
   "outputs": [],
   "source": [
    "base_url = \"https://api.coronavirus.data.gov.uk/v1/data?\"\n",
    "filters = [\n",
    "    \"areaType=nation\",\n",
    "    \"areaName=england\",\n",
    "]\n",
    "structure = {\n",
    "    \"date\": \"date\",\n",
    "    \"cases\": \"newCasesBySpecimenDate\",\n",
    "    \"admissions\": \"newAdmissions\",\n",
    "    \"deaths\": \"newDeaths28DaysByDeathDate\",\n",
    "}\n",
    "params = {\n",
    "    \"filters\": str.join(\";\", filters),\n",
    "    \"structure\": json.dumps(structure, separators=(\",\", \":\"))\n",
    "}\n",
    "\n",
    "response = requests.get(base_url, params=params)\n",
    "data = response.json()\n",
    "df0 = pd.DataFrame.from_records(data[\"data\"])\n",
    "df0 = df0.rolling(window=7, on=\"date\").mean()\n",
    "df0[\"date\"] = pd.to_datetime(df0[\"date\"])\n",
    "df0[\"source\"] = \"data\"\n",
    "mask = df0[\"date\"] >= \"2020-05-15\"  # roughly when targetted testing ended\n",
    "df0 = df0[mask]\n",
    "\n",
    "df0 = df0.set_index(\"date\")"
   ]
  },
  {
   "cell_type": "code",
   "execution_count": null,
   "metadata": {},
   "outputs": [],
   "source": [
    "dfs = []\n",
    "for variable in [\"cases\", \"admissions\", \"deaths\"]:\n",
    "    mask1 = df0[variable].notna()\n",
    "    base_date = df0.loc[mask1].index.max() - datetime.timedelta(days=28)\n",
    "    mask2 = df0.index > base_date\n",
    "    mask = mask1 & mask2\n",
    "\n",
    "    x = [(date - base_date).days for date in df0.loc[mask].index]\n",
    "    y = df0.loc[mask, variable]\n",
    "    ks = np.polyfit(x, np.log(y), 1, w=np.sqrt(y))\n",
    "\n",
    "    xx = np.array(range(28+28*4))\n",
    "    yy = math.exp(ks[1]) * np.exp(ks[0]*xx)\n",
    "\n",
    "    dfs.append(\n",
    "        pd.DataFrame({\n",
    "            \"date\": [base_date + datetime.timedelta(days=int(x)) for x in xx],\n",
    "            f\"{variable}\": yy,\n",
    "            \"source\": \"projection\",\n",
    "        }).set_index(\"date\")\n",
    "    )\n",
    "dfs.append(df0)\n",
    "df = pd.concat(dfs, sort=False)\n",
    "df[\"admission-case-ratio\"] = df[\"admissions\"].shift(periods=-11) / df[\"cases\"]\n",
    "df[\"death-case-ratio\"] = df[\"deaths\"].shift(periods=-35) / df[\"cases\"]\n",
    "df = df.reset_index()"
   ]
  },
  {
   "cell_type": "code",
   "execution_count": null,
   "metadata": {},
   "outputs": [],
   "source": [
    "for variable in [\"cases\", \"admissions\", \"deaths\"]:\n",
    "    log_y = False\n",
    "    mask = df[\"source\"]==\"data\"\n",
    "    max_y = df.loc[mask, variable].max()*1.05\n",
    "    min_y = 1 if log_y else 0\n",
    "    range_y = [min_y, max_y]\n",
    "    fig = px.line(\n",
    "        data_frame=df,\n",
    "        x=\"date\",\n",
    "        y=variable,\n",
    "        color=\"source\",\n",
    "        log_y=log_y,\n",
    "        range_y=range_y,\n",
    "    )\n",
    "    fig.show()"
   ]
  },
  {
   "cell_type": "code",
   "execution_count": null,
   "metadata": {},
   "outputs": [],
   "source": [
    "for variable in [\"admission\", \"death\"]:\n",
    "    log_y = True\n",
    "    mask = df[\"source\"]==\"data\"\n",
    "    max_y = df.loc[mask, f\"{variable}-case-ratio\"].max()*1.05\n",
    "    min_y = 0 if not log_y else (5e-3 if variable == \"admission\" else 1e-4)\n",
    "    range_y = [min_y, max_y]\n",
    "    px.line(\n",
    "        data_frame=df,\n",
    "        x=\"date\",\n",
    "        y=f\"{variable}-case-ratio\",\n",
    "        log_y=log_y,\n",
    "        range_y=range_y,\n",
    "    ).show()"
   ]
  },
  {
   "cell_type": "code",
   "execution_count": null,
   "metadata": {},
   "outputs": [],
   "source": []
  }
 ],
 "metadata": {
  "interpreter": {
   "hash": "620563eaad0bc4fc56c3327edfd031b4232d307aac78b6784b725546773d8017"
  },
  "kernelspec": {
   "display_name": "Python 3.8.10 64-bit ('venv': venv)",
   "name": "python3"
  },
  "language_info": {
   "codemirror_mode": {
    "name": "ipython",
    "version": 3
   },
   "file_extension": ".py",
   "mimetype": "text/x-python",
   "name": "python",
   "nbconvert_exporter": "python",
   "pygments_lexer": "ipython3",
   "version": "3.8.10"
  }
 },
 "nbformat": 4,
 "nbformat_minor": 2
}
